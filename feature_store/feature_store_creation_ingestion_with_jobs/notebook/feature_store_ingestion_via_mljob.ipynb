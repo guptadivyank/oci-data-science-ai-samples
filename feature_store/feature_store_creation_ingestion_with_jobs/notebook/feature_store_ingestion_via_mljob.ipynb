{
 "cells": [
  {
   "cell_type": "markdown",
   "id": "150bf66b",
   "metadata": {},
   "source": [
    "### OCI Data Science - Useful Tips\n",
    "<details>\n",
    "<summary><font size=\"2\">Check for Public Internet Access</font></summary>\n",
    "\n",
    "```python\n",
    "import requests\n",
    "response = requests.get(\"https://oracle.com\")\n",
    "assert response.status_code==200, \"Internet connection failed\"\n",
    "```\n",
    "</details>\n",
    "<details>\n",
    "<summary><font size=\"2\">Helpful Documentation </font></summary>\n",
    "<ul><li><a href=\"https://docs.cloud.oracle.com/en-us/iaas/data-science/using/data-science.htm\">Data Science Service Documentation</a></li>\n",
    "<li><a href=\"https://docs.cloud.oracle.com/iaas/tools/ads-sdk/latest/index.html\">ADS documentation</a></li>\n",
    "</ul>\n",
    "</details>\n",
    "<details>\n",
    "<summary><font size=\"2\">Typical Cell Imports and Settings for ADS</font></summary>\n",
    "\n",
    "```python\n",
    "%load_ext autoreload\n",
    "%autoreload 2\n",
    "%matplotlib inline\n",
    "\n",
    "import warnings\n",
    "warnings.filterwarnings('ignore')\n",
    "\n",
    "import logging\n",
    "logging.basicConfig(format='%(levelname)s:%(message)s', level=logging.ERROR)\n",
    "\n",
    "import ads\n",
    "from ads.dataset.factory import DatasetFactory\n",
    "from ads.automl.provider import OracleAutoMLProvider\n",
    "from ads.automl.driver import AutoML\n",
    "from ads.evaluations.evaluator import ADSEvaluator\n",
    "from ads.common.data import ADSData\n",
    "from ads.explanations.explainer import ADSExplainer\n",
    "from ads.explanations.mlx_global_explainer import MLXGlobalExplainer\n",
    "from ads.explanations.mlx_local_explainer import MLXLocalExplainer\n",
    "from ads.catalog.model import ModelCatalog\n",
    "from ads.common.model_artifact import ModelArtifact\n",
    "```\n",
    "</details>\n",
    "<details>\n",
    "<summary><font size=\"2\">Useful Environment Variables</font></summary>\n",
    "\n",
    "```python\n",
    "import os\n",
    "print(os.environ[\"NB_SESSION_COMPARTMENT_OCID\"])\n",
    "print(os.environ[\"PROJECT_OCID\"])\n",
    "print(os.environ[\"USER_OCID\"])\n",
    "print(os.environ[\"TENANCY_OCID\"])\n",
    "print(os.environ[\"NB_REGION\"])\n",
    "```\n",
    "</details>"
   ]
  },
  {
   "cell_type": "markdown",
   "id": "b512479a",
   "metadata": {},
   "source": [
    "# <font color=red>Using Data Science Jobs to ingest feature values in to OCI feature store</font>\n",
    "<p style=\"margin-left:10%; margin-right:10%;\">by the <font color=teal> Oracle Cloud Infrastructure Data Science Team </font></p>\n",
    "\n",
    "***"
   ]
  },
  {
   "cell_type": "markdown",
   "id": "daf36be8",
   "metadata": {},
   "source": [
    "# Introduction \n",
    "\n",
    "Data Science Jobs allow you to run customized tasks outside of a notebook session. You can have Compute on demand and only pay for the Compute that you need. With jobs, you can run applications that perform tasks such as data preparation, model training, hyperparameter tuning, and batch inference. When the task is complete, the compute automatically terminates. You can use the Logging service to capture output messages. In this notebook, we will use the Accelerated Data Science SDK (ADS) to help us define a Data Science Job to create design time entities of OCI feature store which can later be used to ingest feature data.\n",
    "\n",
    "For more information on using ADS for jobs, you can go to our [documentation](https://docs.oracle.com/en-us/iaas/tools/ads-sdk/latest/user_guide/jobs/index.html)."
   ]
  },
  {
   "cell_type": "code",
   "execution_count": 10,
   "id": "359187c1",
   "metadata": {},
   "outputs": [],
   "source": [
    "from ads.jobs import Job\n",
    "from ads.jobs import DataScienceJob, ScriptRuntime\n",
    "import ads \n",
    "ads.set_auth('resource_principal')"
   ]
  },
  {
   "cell_type": "markdown",
   "id": "29fee819",
   "metadata": {},
   "source": [
    "## Infrastructure\n",
    "\n",
    "Data Science Job infrastructure is defined by a `DataScienceJob` instance.  \n",
    "<span style=\"color:red\">Important:  </span>If you want to use logging for the job, fill in the `log_group_id` and `log_id` in the cell below.  You need to have set up the policies for the logging service.  For more information about setting up logs for a job, you can go to our [documentation](https://docs.oracle.com/en-us/iaas/data-science/using/log-about.htm#jobs_about__job-logs)."
   ]
  },
  {
   "cell_type": "code",
   "execution_count": 11,
   "id": "74af1cf3",
   "metadata": {},
   "outputs": [],
   "source": [
    "infrastructure = (\n",
    "    DataScienceJob()\n",
    "    .with_shape_name(\"VM.Standard2.24\")\n",
    "    .with_block_storage_size(50)\n",
    "    .with_log_group_id(<log_group_id>)\n",
    "    .with_log_id(<log_id>)\n",
    ")"
   ]
  },
  {
   "cell_type": "markdown",
   "id": "a4c45f54",
   "metadata": {},
   "source": [
    "## Job Runtime\n",
    "\n",
    "`ScriptRuntime` allows you to run Python, Bash, and Java scripts from a single source file (.zip or .tar.gz) or code directory. You can configure a Data Science Conda Environment for running your code."
   ]
  },
  {
   "cell_type": "code",
   "execution_count": 12,
   "id": "18703e6b",
   "metadata": {},
   "outputs": [],
   "source": [
    "runtime = (\n",
    "    ScriptRuntime()\n",
    "    .with_source(\"./feature_Store_ingestion.py\")\n",
    "    .with_service_conda(\"fspyspark32_p38_cpu_v3\")\n",
    ")"
   ]
  },
  {
   "cell_type": "markdown",
   "id": "aec991ec",
   "metadata": {},
   "source": [
    "## Define Job\n",
    "\n",
    "With runtime and infrastructure, you can define a job and give it a name"
   ]
  },
  {
   "cell_type": "code",
   "execution_count": 13,
   "id": "5f378277",
   "metadata": {},
   "outputs": [
    {
     "name": "stdout",
     "output_type": "stream",
     "text": [
      "fs_ingestion_1700223484\n"
     ]
    }
   ],
   "source": [
    "import time    \n",
    "epoch_time = int(time.time())\n",
    "print(f'fs_ingestion_{epoch_time}')\n",
    "job = Job(name= f'fs_ingestion_{epoch_time}').with_infrastructure(infrastructure).with_runtime(runtime)"
   ]
  },
  {
   "cell_type": "markdown",
   "id": "46174975",
   "metadata": {},
   "source": [
    "## Create and Run Job\n",
    "\n",
    "You can call the `create()` method of a job instance to create a job. After the job is created, you can call the `run()` method to create and start a job run. The `run()` method returns a `DataScienceJobRun`. You can monitor the job run output by calling the `watch()` method of the `DataScienceJobRun` instance."
   ]
  },
  {
   "cell_type": "code",
   "execution_count": 14,
   "id": "0956fbf9",
   "metadata": {},
   "outputs": [
    {
     "data": {
      "text/plain": [
       "\n",
       "kind: job\n",
       "spec:\n",
       "  id: ocid1.datasciencejob.oc1.iad.amaaaaaabiudgxya5nplohzlhdqajednplisbunaptpgxrdep7r2uqgcgv7q\n",
       "  infrastructure:\n",
       "    kind: infrastructure\n",
       "    spec:\n",
       "      blockStorageSize: 50\n",
       "      compartmentId: ocid1.tenancy.oc1..aaaaaaaa462hfhplpx652b32ix62xrdijppq2c7okwcqjlgrbknhgtj2kofa\n",
       "      displayName: fs_ingestion_1700223484\n",
       "      jobInfrastructureType: ME_STANDALONE\n",
       "      jobType: DEFAULT\n",
       "      logGroupId: ocid1.loggroup.oc1.iad.amaaaaaabiudgxyavwdj2fgi66ezw7gxxlnmxrks5pcm44775pvgwcuwqy7a\n",
       "      logId: ocid1.log.oc1.iad.amaaaaaabiudgxyai23mvcdneaplmdmrius3ozthkwjpfuqrbl5hdrvwcgaq\n",
       "      projectId: ocid1.datascienceproject.oc1.iad.amaaaaaabiudgxyak5mvbwf54ca3fqrmh4rl6kqv5mo5qamksz4tkc4diixq\n",
       "      shapeName: VM.Standard2.24\n",
       "    type: dataScienceJob\n",
       "  name: fs_ingestion_1700223484\n",
       "  runtime:\n",
       "    kind: runtime\n",
       "    spec:\n",
       "      conda:\n",
       "        slug: fspyspark32_p38_cpu_v1\n",
       "        type: service\n",
       "      scriptPathURI: ./feature_Store_ingestion.py\n",
       "    type: script"
      ]
     },
     "execution_count": 14,
     "metadata": {},
     "output_type": "execute_result"
    }
   ],
   "source": [
    "job.create()"
   ]
  },
  {
   "cell_type": "code",
   "execution_count": 15,
   "id": "bba577a5",
   "metadata": {},
   "outputs": [],
   "source": [
    "job_run = job.run()"
   ]
  },
  {
   "cell_type": "code",
   "execution_count": 16,
   "id": "b016f802",
   "metadata": {},
   "outputs": [
    {
     "name": "stdout",
     "output_type": "stream",
     "text": [
      "Job OCID: ocid1.datasciencejob.oc1.iad.amaaaaaabiudgxya5nplohzlhdqajednplisbunaptpgxrdep7r2uqgcgv7q\n",
      "Job Run OCID: ocid1.datasciencejobrun.oc1.iad.amaaaaaabiudgxyaw75lkemmpip57lbmtwvf22tpp276bfycpxn337zoqqyq\n",
      "2023-11-17 12:18:14 - Job Run ACCEPTED\n",
      "2023-11-17 12:18:30 - Job Run ACCEPTED, Infrastructure provisioning.\n",
      "2023-11-17 12:19:33 - Job Run ACCEPTED, Infrastructure provisioned.\n",
      "2023-11-17 12:20:04 - Job Run ACCEPTED, Job run bootstrap starting.\n",
      "2023-11-17 12:22:30 - Job Run ACCEPTED, Job run bootstrap complete. Artifact execution starting.\n",
      "2023-11-17 12:22:45 - Job Run IN_PROGRESS, Job run artifact execution in progress.\n",
      "ERROR:ads.common.oci_mixin:Failed to synchronize the properties of <class 'ads.common.oci_logging.OCILog'> due to service error:\n",
      "{'target_service': 'logging_management', 'status': 404, 'code': 'NotAuthorizedOrNotFound', 'opc-request-id': '0DD9899611EF4A289396EF122B09B37C/4B7B1C538F24C730AE45A20217670AEA/5418E31F02D6F1EBEB1DD3196FEBD761', 'message': 'Authorization failed or requested resource not found.', 'operation_name': 'get_log', 'timestamp': '2023-11-17T12:22:46.042676+00:00', 'client_version': 'Oracle-PythonSDK/2.105.0+0.1.224.featurestore', 'request_endpoint': 'GET https://logging.us-ashburn-1.oci.oraclecloud.com/20200531/logGroups/ocid1.loggroup.oc1.iad.amaaaaaabiudgxyavwdj2fgi66ezw7gxxlnmxrks5pcm44775pvgwcuwqy7a/logs/ocid1.log.oc1.iad.amaaaaaabiudgxyai23mvcdneaplmdmrius3ozthkwjpfuqrbl5hdrvwcgaq', 'logging_tips': 'To get more info on the failing request, refer to https://docs.oracle.com/en-us/iaas/tools/python/latest/logging.html for ways to log the request/response details.', 'troubleshooting_tips': \"See https://docs.oracle.com/iaas/Content/API/References/apierrors.htm#apierrors_404__404_notauthorizedornotfound for more information about resolving this error. Also see https://docs.oracle.com/iaas/api/#/en/logging-management/20200531/Log/GetLog for details on this operation's requirements. If you are unable to resolve this logging_management issue, please contact Oracle support and provide them this full error message.\"}\n",
      "ERROR:ads.common.oci_mixin:Failed to synchronize the properties of <class 'ads.common.oci_logging.OCILog'> due to service error:\n",
      "{'target_service': 'logging_management', 'status': 404, 'code': 'NotAuthorizedOrNotFound', 'opc-request-id': '6A6B0F43B5B24AED9270E586ACE4EF67/F309B7BE76AC7307F0C2098C2CE1DE29/62CBDA2A6373D2671930F1017954A4C8', 'message': 'Authorization failed or requested resource not found.', 'operation_name': 'get_log', 'timestamp': '2023-11-17T12:22:49.187450+00:00', 'client_version': 'Oracle-PythonSDK/2.105.0+0.1.224.featurestore', 'request_endpoint': 'GET https://logging.us-ashburn-1.oci.oraclecloud.com/20200531/logGroups/ocid1.loggroup.oc1.iad.amaaaaaabiudgxyavwdj2fgi66ezw7gxxlnmxrks5pcm44775pvgwcuwqy7a/logs/ocid1.log.oc1.iad.amaaaaaabiudgxyai23mvcdneaplmdmrius3ozthkwjpfuqrbl5hdrvwcgaq', 'logging_tips': 'To get more info on the failing request, refer to https://docs.oracle.com/en-us/iaas/tools/python/latest/logging.html for ways to log the request/response details.', 'troubleshooting_tips': \"See https://docs.oracle.com/iaas/Content/API/References/apierrors.htm#apierrors_404__404_notauthorizedornotfound for more information about resolving this error. Also see https://docs.oracle.com/iaas/api/#/en/logging-management/20200531/Log/GetLog for details on this operation's requirements. If you are unable to resolve this logging_management issue, please contact Oracle support and provide them this full error message.\"}\n",
      "ERROR:ads.common.oci_mixin:Failed to synchronize the properties of <class 'ads.common.oci_logging.OCILog'> due to service error:\n",
      "{'target_service': 'logging_management', 'status': 404, 'code': 'NotAuthorizedOrNotFound', 'opc-request-id': '2BC6B48A19A042219BB959BDE58B0FC2/39E28628736CD4C75C294A95C8C031ED/8B3732338A015850AECC5CDB803294DD', 'message': 'Authorization failed or requested resource not found.', 'operation_name': 'get_log', 'timestamp': '2023-11-17T12:22:52.265899+00:00', 'client_version': 'Oracle-PythonSDK/2.105.0+0.1.224.featurestore', 'request_endpoint': 'GET https://logging.us-ashburn-1.oci.oraclecloud.com/20200531/logGroups/ocid1.loggroup.oc1.iad.amaaaaaabiudgxyavwdj2fgi66ezw7gxxlnmxrks5pcm44775pvgwcuwqy7a/logs/ocid1.log.oc1.iad.amaaaaaabiudgxyai23mvcdneaplmdmrius3ozthkwjpfuqrbl5hdrvwcgaq', 'logging_tips': 'To get more info on the failing request, refer to https://docs.oracle.com/en-us/iaas/tools/python/latest/logging.html for ways to log the request/response details.', 'troubleshooting_tips': \"See https://docs.oracle.com/iaas/Content/API/References/apierrors.htm#apierrors_404__404_notauthorizedornotfound for more information about resolving this error. Also see https://docs.oracle.com/iaas/api/#/en/logging-management/20200531/Log/GetLog for details on this operation's requirements. If you are unable to resolve this logging_management issue, please contact Oracle support and provide them this full error message.\"}\n",
      "ERROR:ads.common.oci_mixin:Failed to synchronize the properties of <class 'ads.common.oci_logging.OCILog'> due to service error:\n",
      "{'target_service': 'logging_management', 'status': 404, 'code': 'NotAuthorizedOrNotFound', 'opc-request-id': '44E5A91C1AAA4D8A81A92986E897C19D/C8FF4CD71B79C5C454D545F31049ACC8/C4CDD6627D9C5C3E18550995C0B5EFBE', 'message': 'Authorization failed or requested resource not found.', 'operation_name': 'get_log', 'timestamp': '2023-11-17T12:22:55.322737+00:00', 'client_version': 'Oracle-PythonSDK/2.105.0+0.1.224.featurestore', 'request_endpoint': 'GET https://logging.us-ashburn-1.oci.oraclecloud.com/20200531/logGroups/ocid1.loggroup.oc1.iad.amaaaaaabiudgxyavwdj2fgi66ezw7gxxlnmxrks5pcm44775pvgwcuwqy7a/logs/ocid1.log.oc1.iad.amaaaaaabiudgxyai23mvcdneaplmdmrius3ozthkwjpfuqrbl5hdrvwcgaq', 'logging_tips': 'To get more info on the failing request, refer to https://docs.oracle.com/en-us/iaas/tools/python/latest/logging.html for ways to log the request/response details.', 'troubleshooting_tips': \"See https://docs.oracle.com/iaas/Content/API/References/apierrors.htm#apierrors_404__404_notauthorizedornotfound for more information about resolving this error. Also see https://docs.oracle.com/iaas/api/#/en/logging-management/20200531/Log/GetLog for details on this operation's requirements. If you are unable to resolve this logging_management issue, please contact Oracle support and provide them this full error message.\"}\n",
      "ERROR:ads.common.oci_mixin:Failed to synchronize the properties of <class 'ads.common.oci_logging.OCILog'> due to service error:\n",
      "{'target_service': 'logging_management', 'status': 404, 'code': 'NotAuthorizedOrNotFound', 'opc-request-id': '2467FC4C9E9B4E378BD214E3DB9838E6/2D50A455FC5702E22BCBD4574DAAE898/49BCE254A808A3836ED8065A6179A895', 'message': 'Authorization failed or requested resource not found.', 'operation_name': 'get_log', 'timestamp': '2023-11-17T12:22:58.384013+00:00', 'client_version': 'Oracle-PythonSDK/2.105.0+0.1.224.featurestore', 'request_endpoint': 'GET https://logging.us-ashburn-1.oci.oraclecloud.com/20200531/logGroups/ocid1.loggroup.oc1.iad.amaaaaaabiudgxyavwdj2fgi66ezw7gxxlnmxrks5pcm44775pvgwcuwqy7a/logs/ocid1.log.oc1.iad.amaaaaaabiudgxyai23mvcdneaplmdmrius3ozthkwjpfuqrbl5hdrvwcgaq', 'logging_tips': 'To get more info on the failing request, refer to https://docs.oracle.com/en-us/iaas/tools/python/latest/logging.html for ways to log the request/response details.', 'troubleshooting_tips': \"See https://docs.oracle.com/iaas/Content/API/References/apierrors.htm#apierrors_404__404_notauthorizedornotfound for more information about resolving this error. Also see https://docs.oracle.com/iaas/api/#/en/logging-management/20200531/Log/GetLog for details on this operation's requirements. If you are unable to resolve this logging_management issue, please contact Oracle support and provide them this full error message.\"}\n",
      "ERROR:ads.common.oci_mixin:Failed to synchronize the properties of <class 'ads.common.oci_logging.OCILog'> due to service error:\n",
      "{'target_service': 'logging_management', 'status': 404, 'code': 'NotAuthorizedOrNotFound', 'opc-request-id': '69E5D62216EE454D97F8381C0D83CE2F/59DB89CB4DA6D681AD6A678B4914073E/9ABBB5C4ED5EE38E7C36528DD96EE911', 'message': 'Authorization failed or requested resource not found.', 'operation_name': 'get_log', 'timestamp': '2023-11-17T12:23:01.431920+00:00', 'client_version': 'Oracle-PythonSDK/2.105.0+0.1.224.featurestore', 'request_endpoint': 'GET https://logging.us-ashburn-1.oci.oraclecloud.com/20200531/logGroups/ocid1.loggroup.oc1.iad.amaaaaaabiudgxyavwdj2fgi66ezw7gxxlnmxrks5pcm44775pvgwcuwqy7a/logs/ocid1.log.oc1.iad.amaaaaaabiudgxyai23mvcdneaplmdmrius3ozthkwjpfuqrbl5hdrvwcgaq', 'logging_tips': 'To get more info on the failing request, refer to https://docs.oracle.com/en-us/iaas/tools/python/latest/logging.html for ways to log the request/response details.', 'troubleshooting_tips': \"See https://docs.oracle.com/iaas/Content/API/References/apierrors.htm#apierrors_404__404_notauthorizedornotfound for more information about resolving this error. Also see https://docs.oracle.com/iaas/api/#/en/logging-management/20200531/Log/GetLog for details on this operation's requirements. If you are unable to resolve this logging_management issue, please contact Oracle support and provide them this full error message.\"}\n",
      "ERROR:ads.common.oci_mixin:Failed to synchronize the properties of <class 'ads.common.oci_logging.OCILog'> due to service error:\n",
      "{'target_service': 'logging_management', 'status': 404, 'code': 'NotAuthorizedOrNotFound', 'opc-request-id': '6CD10178DBAF4310BDDF3F47FFE77563/CB1B80980F76857B500AD80F83F4C287/3FAA5EE928665BA415A04102EE708B56', 'message': 'Authorization failed or requested resource not found.', 'operation_name': 'get_log', 'timestamp': '2023-11-17T12:23:04.476036+00:00', 'client_version': 'Oracle-PythonSDK/2.105.0+0.1.224.featurestore', 'request_endpoint': 'GET https://logging.us-ashburn-1.oci.oraclecloud.com/20200531/logGroups/ocid1.loggroup.oc1.iad.amaaaaaabiudgxyavwdj2fgi66ezw7gxxlnmxrks5pcm44775pvgwcuwqy7a/logs/ocid1.log.oc1.iad.amaaaaaabiudgxyai23mvcdneaplmdmrius3ozthkwjpfuqrbl5hdrvwcgaq', 'logging_tips': 'To get more info on the failing request, refer to https://docs.oracle.com/en-us/iaas/tools/python/latest/logging.html for ways to log the request/response details.', 'troubleshooting_tips': \"See https://docs.oracle.com/iaas/Content/API/References/apierrors.htm#apierrors_404__404_notauthorizedornotfound for more information about resolving this error. Also see https://docs.oracle.com/iaas/api/#/en/logging-management/20200531/Log/GetLog for details on this operation's requirements. If you are unable to resolve this logging_management issue, please contact Oracle support and provide them this full error message.\"}\n",
      "ERROR:ads.common.oci_mixin:Failed to synchronize the properties of <class 'ads.common.oci_logging.OCILog'> due to service error:\n",
      "{'target_service': 'logging_management', 'status': 404, 'code': 'NotAuthorizedOrNotFound', 'opc-request-id': '060B08500C074270A5A36E6D042B9B73/952594AC9C92A373CDB240DB5EDCE61C/0156063CC6D1B3A936D40853DC017718', 'message': 'Authorization failed or requested resource not found.', 'operation_name': 'get_log', 'timestamp': '2023-11-17T12:23:07.525082+00:00', 'client_version': 'Oracle-PythonSDK/2.105.0+0.1.224.featurestore', 'request_endpoint': 'GET https://logging.us-ashburn-1.oci.oraclecloud.com/20200531/logGroups/ocid1.loggroup.oc1.iad.amaaaaaabiudgxyavwdj2fgi66ezw7gxxlnmxrks5pcm44775pvgwcuwqy7a/logs/ocid1.log.oc1.iad.amaaaaaabiudgxyai23mvcdneaplmdmrius3ozthkwjpfuqrbl5hdrvwcgaq', 'logging_tips': 'To get more info on the failing request, refer to https://docs.oracle.com/en-us/iaas/tools/python/latest/logging.html for ways to log the request/response details.', 'troubleshooting_tips': \"See https://docs.oracle.com/iaas/Content/API/References/apierrors.htm#apierrors_404__404_notauthorizedornotfound for more information about resolving this error. Also see https://docs.oracle.com/iaas/api/#/en/logging-management/20200531/Log/GetLog for details on this operation's requirements. If you are unable to resolve this logging_management issue, please contact Oracle support and provide them this full error message.\"}\n",
      "ERROR:ads.common.oci_mixin:Failed to synchronize the properties of <class 'ads.common.oci_logging.OCILog'> due to service error:\n",
      "{'target_service': 'logging_management', 'status': 404, 'code': 'NotAuthorizedOrNotFound', 'opc-request-id': '6D358A851DDD4F04AD0BD755A672107F/D7164D3C98054B152F79BF48FC22F791/A8C47412AE5145168DE5BB0903751DA0', 'message': 'Authorization failed or requested resource not found.', 'operation_name': 'get_log', 'timestamp': '2023-11-17T12:23:10.678348+00:00', 'client_version': 'Oracle-PythonSDK/2.105.0+0.1.224.featurestore', 'request_endpoint': 'GET https://logging.us-ashburn-1.oci.oraclecloud.com/20200531/logGroups/ocid1.loggroup.oc1.iad.amaaaaaabiudgxyavwdj2fgi66ezw7gxxlnmxrks5pcm44775pvgwcuwqy7a/logs/ocid1.log.oc1.iad.amaaaaaabiudgxyai23mvcdneaplmdmrius3ozthkwjpfuqrbl5hdrvwcgaq', 'logging_tips': 'To get more info on the failing request, refer to https://docs.oracle.com/en-us/iaas/tools/python/latest/logging.html for ways to log the request/response details.', 'troubleshooting_tips': \"See https://docs.oracle.com/iaas/Content/API/References/apierrors.htm#apierrors_404__404_notauthorizedornotfound for more information about resolving this error. Also see https://docs.oracle.com/iaas/api/#/en/logging-management/20200531/Log/GetLog for details on this operation's requirements. If you are unable to resolve this logging_management issue, please contact Oracle support and provide them this full error message.\"}\n",
      "ERROR:ads.common.oci_mixin:Failed to synchronize the properties of <class 'ads.common.oci_logging.OCILog'> due to service error:\n",
      "{'target_service': 'logging_management', 'status': 404, 'code': 'NotAuthorizedOrNotFound', 'opc-request-id': '723A76BF44AC4B049F3AF0FE133246C0/F9473DE17FB65B82C494CD7FCDB092AA/00BFC44AAD2B20CA1271B8CA96E50AE8', 'message': 'Authorization failed or requested resource not found.', 'operation_name': 'get_log', 'timestamp': '2023-11-17T12:23:13.729021+00:00', 'client_version': 'Oracle-PythonSDK/2.105.0+0.1.224.featurestore', 'request_endpoint': 'GET https://logging.us-ashburn-1.oci.oraclecloud.com/20200531/logGroups/ocid1.loggroup.oc1.iad.amaaaaaabiudgxyavwdj2fgi66ezw7gxxlnmxrks5pcm44775pvgwcuwqy7a/logs/ocid1.log.oc1.iad.amaaaaaabiudgxyai23mvcdneaplmdmrius3ozthkwjpfuqrbl5hdrvwcgaq', 'logging_tips': 'To get more info on the failing request, refer to https://docs.oracle.com/en-us/iaas/tools/python/latest/logging.html for ways to log the request/response details.', 'troubleshooting_tips': \"See https://docs.oracle.com/iaas/Content/API/References/apierrors.htm#apierrors_404__404_notauthorizedornotfound for more information about resolving this error. Also see https://docs.oracle.com/iaas/api/#/en/logging-management/20200531/Log/GetLog for details on this operation's requirements. If you are unable to resolve this logging_management issue, please contact Oracle support and provide them this full error message.\"}\n",
      "ERROR:ads.common.oci_mixin:Failed to synchronize the properties of <class 'ads.common.oci_logging.OCILog'> due to service error:\n",
      "{'target_service': 'logging_management', 'status': 404, 'code': 'NotAuthorizedOrNotFound', 'opc-request-id': '642815F4528D4420BAE54708FFA6C8CF/144EBFBD46B0907084BF24A2D7B2B42F/B4CAE5B17286127E28E9BB5B08DDBDA5', 'message': 'Authorization failed or requested resource not found.', 'operation_name': 'get_log', 'timestamp': '2023-11-17T12:23:16.769665+00:00', 'client_version': 'Oracle-PythonSDK/2.105.0+0.1.224.featurestore', 'request_endpoint': 'GET https://logging.us-ashburn-1.oci.oraclecloud.com/20200531/logGroups/ocid1.loggroup.oc1.iad.amaaaaaabiudgxyavwdj2fgi66ezw7gxxlnmxrks5pcm44775pvgwcuwqy7a/logs/ocid1.log.oc1.iad.amaaaaaabiudgxyai23mvcdneaplmdmrius3ozthkwjpfuqrbl5hdrvwcgaq', 'logging_tips': 'To get more info on the failing request, refer to https://docs.oracle.com/en-us/iaas/tools/python/latest/logging.html for ways to log the request/response details.', 'troubleshooting_tips': \"See https://docs.oracle.com/iaas/Content/API/References/apierrors.htm#apierrors_404__404_notauthorizedornotfound for more information about resolving this error. Also see https://docs.oracle.com/iaas/api/#/en/logging-management/20200531/Log/GetLog for details on this operation's requirements. If you are unable to resolve this logging_management issue, please contact Oracle support and provide them this full error message.\"}\n",
      "ERROR:ads.common.oci_mixin:Failed to synchronize the properties of <class 'ads.common.oci_logging.OCILog'> due to service error:\n",
      "{'target_service': 'logging_management', 'status': 404, 'code': 'NotAuthorizedOrNotFound', 'opc-request-id': '1ECB8117FF344234800B49D30352A3B3/F181C5ECF0B9A169A920E18AE9691E38/173040C867C955F7BC5A96A92FA87559', 'message': 'Authorization failed or requested resource not found.', 'operation_name': 'get_log', 'timestamp': '2023-11-17T12:23:19.906559+00:00', 'client_version': 'Oracle-PythonSDK/2.105.0+0.1.224.featurestore', 'request_endpoint': 'GET https://logging.us-ashburn-1.oci.oraclecloud.com/20200531/logGroups/ocid1.loggroup.oc1.iad.amaaaaaabiudgxyavwdj2fgi66ezw7gxxlnmxrks5pcm44775pvgwcuwqy7a/logs/ocid1.log.oc1.iad.amaaaaaabiudgxyai23mvcdneaplmdmrius3ozthkwjpfuqrbl5hdrvwcgaq', 'logging_tips': 'To get more info on the failing request, refer to https://docs.oracle.com/en-us/iaas/tools/python/latest/logging.html for ways to log the request/response details.', 'troubleshooting_tips': \"See https://docs.oracle.com/iaas/Content/API/References/apierrors.htm#apierrors_404__404_notauthorizedornotfound for more information about resolving this error. Also see https://docs.oracle.com/iaas/api/#/en/logging-management/20200531/Log/GetLog for details on this operation's requirements. If you are unable to resolve this logging_management issue, please contact Oracle support and provide them this full error message.\"}\n",
      "ERROR:ads.common.oci_mixin:Failed to synchronize the properties of <class 'ads.common.oci_logging.OCILog'> due to service error:\n",
      "{'target_service': 'logging_management', 'status': 404, 'code': 'NotAuthorizedOrNotFound', 'opc-request-id': '4182AF6AF9544DDCA61942C7C7D7120C/9D2D69442F7E80EB209F081072EA7B52/CBE4AA242353261CD7A0DD4D9DDC9CC7', 'message': 'Authorization failed or requested resource not found.', 'operation_name': 'get_log', 'timestamp': '2023-11-17T12:23:22.947385+00:00', 'client_version': 'Oracle-PythonSDK/2.105.0+0.1.224.featurestore', 'request_endpoint': 'GET https://logging.us-ashburn-1.oci.oraclecloud.com/20200531/logGroups/ocid1.loggroup.oc1.iad.amaaaaaabiudgxyavwdj2fgi66ezw7gxxlnmxrks5pcm44775pvgwcuwqy7a/logs/ocid1.log.oc1.iad.amaaaaaabiudgxyai23mvcdneaplmdmrius3ozthkwjpfuqrbl5hdrvwcgaq', 'logging_tips': 'To get more info on the failing request, refer to https://docs.oracle.com/en-us/iaas/tools/python/latest/logging.html for ways to log the request/response details.', 'troubleshooting_tips': \"See https://docs.oracle.com/iaas/Content/API/References/apierrors.htm#apierrors_404__404_notauthorizedornotfound for more information about resolving this error. Also see https://docs.oracle.com/iaas/api/#/en/logging-management/20200531/Log/GetLog for details on this operation's requirements. If you are unable to resolve this logging_management issue, please contact Oracle support and provide them this full error message.\"}\n",
      "ERROR:ads.common.oci_mixin:Failed to synchronize the properties of <class 'ads.common.oci_logging.OCILog'> due to service error:\n",
      "{'target_service': 'logging_management', 'status': 404, 'code': 'NotAuthorizedOrNotFound', 'opc-request-id': '04F0F716BCA54D24B3716743457C07D5/C4575A6C281B4966016EFE2E72B08127/2F9DD45ACB22CE7753B96ED78490AB45', 'message': 'Authorization failed or requested resource not found.', 'operation_name': 'get_log', 'timestamp': '2023-11-17T12:23:26.016618+00:00', 'client_version': 'Oracle-PythonSDK/2.105.0+0.1.224.featurestore', 'request_endpoint': 'GET https://logging.us-ashburn-1.oci.oraclecloud.com/20200531/logGroups/ocid1.loggroup.oc1.iad.amaaaaaabiudgxyavwdj2fgi66ezw7gxxlnmxrks5pcm44775pvgwcuwqy7a/logs/ocid1.log.oc1.iad.amaaaaaabiudgxyai23mvcdneaplmdmrius3ozthkwjpfuqrbl5hdrvwcgaq', 'logging_tips': 'To get more info on the failing request, refer to https://docs.oracle.com/en-us/iaas/tools/python/latest/logging.html for ways to log the request/response details.', 'troubleshooting_tips': \"See https://docs.oracle.com/iaas/Content/API/References/apierrors.htm#apierrors_404__404_notauthorizedornotfound for more information about resolving this error. Also see https://docs.oracle.com/iaas/api/#/en/logging-management/20200531/Log/GetLog for details on this operation's requirements. If you are unable to resolve this logging_management issue, please contact Oracle support and provide them this full error message.\"}\n",
      "ERROR:ads.common.oci_mixin:Failed to synchronize the properties of <class 'ads.common.oci_logging.OCILog'> due to service error:\n",
      "{'target_service': 'logging_management', 'status': 404, 'code': 'NotAuthorizedOrNotFound', 'opc-request-id': '228ABA0DF1E34EE6B5DD51FCFEA3EE02/35492CEB0D7E9D90061265B4735D1F64/9B9529318D0F1CDE6B5A75E60AC61889', 'message': 'Authorization failed or requested resource not found.', 'operation_name': 'get_log', 'timestamp': '2023-11-17T12:23:29.055843+00:00', 'client_version': 'Oracle-PythonSDK/2.105.0+0.1.224.featurestore', 'request_endpoint': 'GET https://logging.us-ashburn-1.oci.oraclecloud.com/20200531/logGroups/ocid1.loggroup.oc1.iad.amaaaaaabiudgxyavwdj2fgi66ezw7gxxlnmxrks5pcm44775pvgwcuwqy7a/logs/ocid1.log.oc1.iad.amaaaaaabiudgxyai23mvcdneaplmdmrius3ozthkwjpfuqrbl5hdrvwcgaq', 'logging_tips': 'To get more info on the failing request, refer to https://docs.oracle.com/en-us/iaas/tools/python/latest/logging.html for ways to log the request/response details.', 'troubleshooting_tips': \"See https://docs.oracle.com/iaas/Content/API/References/apierrors.htm#apierrors_404__404_notauthorizedornotfound for more information about resolving this error. Also see https://docs.oracle.com/iaas/api/#/en/logging-management/20200531/Log/GetLog for details on this operation's requirements. If you are unable to resolve this logging_management issue, please contact Oracle support and provide them this full error message.\"}\n",
      "ERROR:ads.common.oci_mixin:Failed to synchronize the properties of <class 'ads.common.oci_logging.OCILog'> due to service error:\n",
      "{'target_service': 'logging_management', 'status': 404, 'code': 'NotAuthorizedOrNotFound', 'opc-request-id': '82B614066A8345E4BAD13C81077C4A55/E99F9B1952870126FC3800A4E8927C89/0B334236C226329F2564FCB3305F0B76', 'message': 'Authorization failed or requested resource not found.', 'operation_name': 'get_log', 'timestamp': '2023-11-17T12:23:32.121455+00:00', 'client_version': 'Oracle-PythonSDK/2.105.0+0.1.224.featurestore', 'request_endpoint': 'GET https://logging.us-ashburn-1.oci.oraclecloud.com/20200531/logGroups/ocid1.loggroup.oc1.iad.amaaaaaabiudgxyavwdj2fgi66ezw7gxxlnmxrks5pcm44775pvgwcuwqy7a/logs/ocid1.log.oc1.iad.amaaaaaabiudgxyai23mvcdneaplmdmrius3ozthkwjpfuqrbl5hdrvwcgaq', 'logging_tips': 'To get more info on the failing request, refer to https://docs.oracle.com/en-us/iaas/tools/python/latest/logging.html for ways to log the request/response details.', 'troubleshooting_tips': \"See https://docs.oracle.com/iaas/Content/API/References/apierrors.htm#apierrors_404__404_notauthorizedornotfound for more information about resolving this error. Also see https://docs.oracle.com/iaas/api/#/en/logging-management/20200531/Log/GetLog for details on this operation's requirements. If you are unable to resolve this logging_management issue, please contact Oracle support and provide them this full error message.\"}\n",
      "ERROR:ads.common.oci_mixin:Failed to synchronize the properties of <class 'ads.common.oci_logging.OCILog'> due to service error:\n",
      "{'target_service': 'logging_management', 'status': 404, 'code': 'NotAuthorizedOrNotFound', 'opc-request-id': '70F140D7762644EB8F4D1FB8C02336E0/C13D20AEA218B7C0567C039B51E6228E/C54E7B18C45D2ECA2638B317AF0E90F6', 'message': 'Authorization failed or requested resource not found.', 'operation_name': 'get_log', 'timestamp': '2023-11-17T12:23:35.166568+00:00', 'client_version': 'Oracle-PythonSDK/2.105.0+0.1.224.featurestore', 'request_endpoint': 'GET https://logging.us-ashburn-1.oci.oraclecloud.com/20200531/logGroups/ocid1.loggroup.oc1.iad.amaaaaaabiudgxyavwdj2fgi66ezw7gxxlnmxrks5pcm44775pvgwcuwqy7a/logs/ocid1.log.oc1.iad.amaaaaaabiudgxyai23mvcdneaplmdmrius3ozthkwjpfuqrbl5hdrvwcgaq', 'logging_tips': 'To get more info on the failing request, refer to https://docs.oracle.com/en-us/iaas/tools/python/latest/logging.html for ways to log the request/response details.', 'troubleshooting_tips': \"See https://docs.oracle.com/iaas/Content/API/References/apierrors.htm#apierrors_404__404_notauthorizedornotfound for more information about resolving this error. Also see https://docs.oracle.com/iaas/api/#/en/logging-management/20200531/Log/GetLog for details on this operation's requirements. If you are unable to resolve this logging_management issue, please contact Oracle support and provide them this full error message.\"}\n",
      "ERROR:ads.common.oci_mixin:Failed to synchronize the properties of <class 'ads.common.oci_logging.OCILog'> due to service error:\n",
      "{'target_service': 'logging_management', 'status': 404, 'code': 'NotAuthorizedOrNotFound', 'opc-request-id': 'F094D4796BD94B78BCDB9AC9F99E4E74/13C4FCC12BBD46AA4FD4E6DB7E5542B1/B155BDB178210F9EF9A7FEE56D769168', 'message': 'Authorization failed or requested resource not found.', 'operation_name': 'get_log', 'timestamp': '2023-11-17T12:23:38.223667+00:00', 'client_version': 'Oracle-PythonSDK/2.105.0+0.1.224.featurestore', 'request_endpoint': 'GET https://logging.us-ashburn-1.oci.oraclecloud.com/20200531/logGroups/ocid1.loggroup.oc1.iad.amaaaaaabiudgxyavwdj2fgi66ezw7gxxlnmxrks5pcm44775pvgwcuwqy7a/logs/ocid1.log.oc1.iad.amaaaaaabiudgxyai23mvcdneaplmdmrius3ozthkwjpfuqrbl5hdrvwcgaq', 'logging_tips': 'To get more info on the failing request, refer to https://docs.oracle.com/en-us/iaas/tools/python/latest/logging.html for ways to log the request/response details.', 'troubleshooting_tips': \"See https://docs.oracle.com/iaas/Content/API/References/apierrors.htm#apierrors_404__404_notauthorizedornotfound for more information about resolving this error. Also see https://docs.oracle.com/iaas/api/#/en/logging-management/20200531/Log/GetLog for details on this operation's requirements. If you are unable to resolve this logging_management issue, please contact Oracle support and provide them this full error message.\"}\n",
      "ERROR:ads.common.oci_mixin:Failed to synchronize the properties of <class 'ads.common.oci_logging.OCILog'> due to service error:\n",
      "{'target_service': 'logging_management', 'status': 404, 'code': 'NotAuthorizedOrNotFound', 'opc-request-id': 'B70DCB6F863F4061A022B2FC58E771C1/8095F101C8C14CB3A90F216963073997/5C63E92317ADB0541F17A67FE8375F4E', 'message': 'Authorization failed or requested resource not found.', 'operation_name': 'get_log', 'timestamp': '2023-11-17T12:23:41.366145+00:00', 'client_version': 'Oracle-PythonSDK/2.105.0+0.1.224.featurestore', 'request_endpoint': 'GET https://logging.us-ashburn-1.oci.oraclecloud.com/20200531/logGroups/ocid1.loggroup.oc1.iad.amaaaaaabiudgxyavwdj2fgi66ezw7gxxlnmxrks5pcm44775pvgwcuwqy7a/logs/ocid1.log.oc1.iad.amaaaaaabiudgxyai23mvcdneaplmdmrius3ozthkwjpfuqrbl5hdrvwcgaq', 'logging_tips': 'To get more info on the failing request, refer to https://docs.oracle.com/en-us/iaas/tools/python/latest/logging.html for ways to log the request/response details.', 'troubleshooting_tips': \"See https://docs.oracle.com/iaas/Content/API/References/apierrors.htm#apierrors_404__404_notauthorizedornotfound for more information about resolving this error. Also see https://docs.oracle.com/iaas/api/#/en/logging-management/20200531/Log/GetLog for details on this operation's requirements. If you are unable to resolve this logging_management issue, please contact Oracle support and provide them this full error message.\"}\n",
      "ERROR:ads.common.oci_mixin:Failed to synchronize the properties of <class 'ads.common.oci_logging.OCILog'> due to service error:\n",
      "{'target_service': 'logging_management', 'status': 404, 'code': 'NotAuthorizedOrNotFound', 'opc-request-id': 'CC68EC711A0944DA911F54D712304B99/AFB1D1F911C5FB202D416408FE792C34/8DFCBBEC9B328917CE6C49C9C341B215', 'message': 'Authorization failed or requested resource not found.', 'operation_name': 'get_log', 'timestamp': '2023-11-17T12:23:44.461661+00:00', 'client_version': 'Oracle-PythonSDK/2.105.0+0.1.224.featurestore', 'request_endpoint': 'GET https://logging.us-ashburn-1.oci.oraclecloud.com/20200531/logGroups/ocid1.loggroup.oc1.iad.amaaaaaabiudgxyavwdj2fgi66ezw7gxxlnmxrks5pcm44775pvgwcuwqy7a/logs/ocid1.log.oc1.iad.amaaaaaabiudgxyai23mvcdneaplmdmrius3ozthkwjpfuqrbl5hdrvwcgaq', 'logging_tips': 'To get more info on the failing request, refer to https://docs.oracle.com/en-us/iaas/tools/python/latest/logging.html for ways to log the request/response details.', 'troubleshooting_tips': \"See https://docs.oracle.com/iaas/Content/API/References/apierrors.htm#apierrors_404__404_notauthorizedornotfound for more information about resolving this error. Also see https://docs.oracle.com/iaas/api/#/en/logging-management/20200531/Log/GetLog for details on this operation's requirements. If you are unable to resolve this logging_management issue, please contact Oracle support and provide them this full error message.\"}\n",
      "ERROR:ads.common.oci_mixin:Failed to synchronize the properties of <class 'ads.common.oci_logging.OCILog'> due to service error:\n",
      "{'target_service': 'logging_management', 'status': 404, 'code': 'NotAuthorizedOrNotFound', 'opc-request-id': 'BB56FD55BF9143B28B96EEDBA602F247/907344590DB6A41CF701298EAE51AD2E/A32AAA3E754AB35F7426620B9AB1B07A', 'message': 'Authorization failed or requested resource not found.', 'operation_name': 'get_log', 'timestamp': '2023-11-17T12:23:47.514185+00:00', 'client_version': 'Oracle-PythonSDK/2.105.0+0.1.224.featurestore', 'request_endpoint': 'GET https://logging.us-ashburn-1.oci.oraclecloud.com/20200531/logGroups/ocid1.loggroup.oc1.iad.amaaaaaabiudgxyavwdj2fgi66ezw7gxxlnmxrks5pcm44775pvgwcuwqy7a/logs/ocid1.log.oc1.iad.amaaaaaabiudgxyai23mvcdneaplmdmrius3ozthkwjpfuqrbl5hdrvwcgaq', 'logging_tips': 'To get more info on the failing request, refer to https://docs.oracle.com/en-us/iaas/tools/python/latest/logging.html for ways to log the request/response details.', 'troubleshooting_tips': \"See https://docs.oracle.com/iaas/Content/API/References/apierrors.htm#apierrors_404__404_notauthorizedornotfound for more information about resolving this error. Also see https://docs.oracle.com/iaas/api/#/en/logging-management/20200531/Log/GetLog for details on this operation's requirements. If you are unable to resolve this logging_management issue, please contact Oracle support and provide them this full error message.\"}\n"
     ]
    },
    {
     "name": "stderr",
     "output_type": "stream",
     "text": [
      "ERROR - Exception\n",
      "Traceback (most recent call last):\n",
      "  File \"/home/datascience/conda/fspyspark32_p38_cpu_v1/lib/python3.8/site-packages/ads/common/oci_logging.py\", line 376, in _search_logs\n",
      "    response = self.search_client.search_logs(\n",
      "  File \"/home/datascience/conda/fspyspark32_p38_cpu_v1/lib/python3.8/site-packages/oci/loggingsearch/log_search_client.py\", line 197, in search_logs\n",
      "    return retry_strategy.make_retrying_call(\n",
      "  File \"/home/datascience/conda/fspyspark32_p38_cpu_v1/lib/python3.8/site-packages/oci/retry/retry.py\", line 308, in make_retrying_call\n",
      "    response = func_ref(*func_args, **func_kwargs)\n",
      "  File \"/home/datascience/conda/fspyspark32_p38_cpu_v1/lib/python3.8/site-packages/oci/base_client.py\", line 522, in call_api\n",
      "    return self.request(request, allow_control_chars, operation_name, api_reference_link)\n",
      "  File \"/home/datascience/conda/fspyspark32_p38_cpu_v1/lib/python3.8/site-packages/circuitbreaker.py\", line 159, in wrapper\n",
      "    return call(function, *args, **kwargs)\n",
      "  File \"/home/datascience/conda/fspyspark32_p38_cpu_v1/lib/python3.8/site-packages/circuitbreaker.py\", line 170, in call\n",
      "    return func(*args, **kwargs)\n",
      "  File \"/home/datascience/conda/fspyspark32_p38_cpu_v1/lib/python3.8/site-packages/oci/base_client.py\", line 718, in request\n",
      "    self.raise_service_error(request, response, service_code, message, operation_name, api_reference_link, target_service, request_endpoint, client_version, timestamp, deserialized_data)\n",
      "  File \"/home/datascience/conda/fspyspark32_p38_cpu_v1/lib/python3.8/site-packages/oci/base_client.py\", line 875, in raise_service_error\n",
      "    raise exceptions.ServiceError(\n",
      "oci.exceptions.ServiceError: {'target_service': 'log_search', 'status': 404, 'code': 'NotAuthorizedOrNotFound', 'opc-request-id': 'ED42D213F2A840088E8D6BCC4ED3E1E8/BF288E8E7DEF7E56A56EB7F8B706AC7D/349E87A087131CF490520A2E2E4BA836', 'message': 'Could not find log metadata in control plane', 'operation_name': 'search_logs', 'timestamp': '2023-11-17T12:23:47.533264+00:00', 'client_version': 'Oracle-PythonSDK/2.105.0+0.1.224.featurestore', 'request_endpoint': 'POST https://logging.us-ashburn-1.oci.oraclecloud.com/20190909/search', 'logging_tips': 'To get more info on the failing request, refer to https://docs.oracle.com/en-us/iaas/tools/python/latest/logging.html for ways to log the request/response details.', 'troubleshooting_tips': \"See https://docs.oracle.com/iaas/Content/API/References/apierrors.htm#apierrors_404__404_notauthorizedornotfound for more information about resolving this error. Also see https://docs.oracle.com/iaas/api/#/en/logging-search/20190909/SearchResult/SearchLogs for details on this operation's requirements. If you are unable to resolve this log_search issue, please contact Oracle support and provide them this full error message.\"}\n",
      "\n",
      "During handling of the above exception, another exception occurred:\n",
      "\n",
      "Traceback (most recent call last):\n",
      "  File \"/home/datascience/conda/fspyspark32_p38_cpu_v1/lib/python3.8/site-packages/IPython/core/interactiveshell.py\", line 3553, in run_code\n",
      "    exec(code_obj, self.user_global_ns, self.user_ns)\n",
      "  File \"/tmp/ipykernel_6218/1039789494.py\", line 1, in <cell line: 1>\n",
      "    job_run.watch()\n",
      "  File \"/home/datascience/conda/fspyspark32_p38_cpu_v1/lib/python3.8/site-packages/ads/jobs/builders/infrastructure/dsc_job.py\", line 713, in watch\n",
      "    count = self.logging.stream(\n",
      "  File \"/home/datascience/conda/fspyspark32_p38_cpu_v1/lib/python3.8/site-packages/ads/common/oci_logging.py\", line 697, in stream\n",
      "    logs = self.tail(\n",
      "  File \"/home/datascience/conda/fspyspark32_p38_cpu_v1/lib/python3.8/site-packages/ads/common/oci_logging.py\", line 617, in tail\n",
      "    return self._search_and_format(\n",
      "  File \"/home/datascience/conda/fspyspark32_p38_cpu_v1/lib/python3.8/site-packages/ads/common/oci_logging.py\", line 568, in _search_and_format\n",
      "    logs = self.search(\n",
      "  File \"/home/datascience/conda/fspyspark32_p38_cpu_v1/lib/python3.8/site-packages/ads/common/oci_logging.py\", line 516, in search\n",
      "    records = self._search_logs(time_start, time_end, search_query)\n",
      "  File \"/home/datascience/conda/fspyspark32_p38_cpu_v1/lib/python3.8/site-packages/ads/common/oci_logging.py\", line 387, in _search_logs\n",
      "    raise oci.exceptions.ServiceError from ex\n",
      "TypeError: __init__() missing 4 required positional arguments: 'status', 'code', 'headers', and 'message'\n",
      "TypeError: __init__() missing 4 required positional arguments: 'status', 'code', 'headers', and 'message'"
     ]
    }
   ],
   "source": [
    "job_run.watch()"
   ]
  },
  {
   "cell_type": "code",
   "execution_count": null,
   "id": "d8c4929e",
   "metadata": {},
   "outputs": [],
   "source": []
  }
 ],
 "metadata": {
  "kernelspec": {
   "display_name": "Python [conda env:fspyspark32_p38_cpu_v1]",
   "language": "python",
   "name": "conda-env-fspyspark32_p38_cpu_v1-py"
  },
  "language_info": {
   "codemirror_mode": {
    "name": "ipython",
    "version": 3
   },
   "file_extension": ".py",
   "mimetype": "text/x-python",
   "name": "python",
   "nbconvert_exporter": "python",
   "pygments_lexer": "ipython3",
   "version": "3.8.17"
  }
 },
 "nbformat": 4,
 "nbformat_minor": 5
}
